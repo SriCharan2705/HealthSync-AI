{
  "nbformat": 4,
  "nbformat_minor": 0,
  "metadata": {
    "colab": {
      "provenance": [],
      "authorship_tag": "ABX9TyO3M4J102lpICa+H7IqsVL3",
      "include_colab_link": true
    },
    "kernelspec": {
      "name": "python3",
      "display_name": "Python 3"
    },
    "language_info": {
      "name": "python"
    }
  },
  "cells": [
    {
      "cell_type": "markdown",
      "metadata": {
        "id": "view-in-github",
        "colab_type": "text"
      },
      "source": [
        "<a href=\"https://colab.research.google.com/github/SriCharan2705/HealthSync-AI/blob/main/HealthSync_AI_DataPreprocessingAndModelTraining.ipynb\" target=\"_parent\"><img src=\"https://colab.research.google.com/assets/colab-badge.svg\" alt=\"Open In Colab\"/></a>"
      ]
    },
    {
      "cell_type": "markdown",
      "source": [
        "HeathSync AI : Data preprocessing and model training"
      ],
      "metadata": {
        "id": "iJBB9X168J1T"
      }
    },
    {
      "cell_type": "markdown",
      "source": [
        "Step 1: Install Required Libraries"
      ],
      "metadata": {
        "id": "cmGeFWYb-VNI"
      }
    },
    {
      "cell_type": "code",
      "source": [
        "!pip install pandas numpy scikit-learn joblib imbalanced-learn xgboost\n",
        "!pip install gradio"
      ],
      "metadata": {
        "colab": {
          "base_uri": "https://localhost:8080/"
        },
        "id": "aCiWhKki8T3d",
        "outputId": "27b19219-6c28-4d4a-8781-a54e31dd2126"
      },
      "execution_count": 1,
      "outputs": [
        {
          "output_type": "stream",
          "name": "stdout",
          "text": [
            "Requirement already satisfied: pandas in /usr/local/lib/python3.12/dist-packages (2.2.2)\n",
            "Requirement already satisfied: numpy in /usr/local/lib/python3.12/dist-packages (2.0.2)\n",
            "Requirement already satisfied: scikit-learn in /usr/local/lib/python3.12/dist-packages (1.6.1)\n",
            "Requirement already satisfied: joblib in /usr/local/lib/python3.12/dist-packages (1.5.2)\n",
            "Requirement already satisfied: imbalanced-learn in /usr/local/lib/python3.12/dist-packages (0.14.0)\n",
            "Requirement already satisfied: xgboost in /usr/local/lib/python3.12/dist-packages (3.0.5)\n",
            "Requirement already satisfied: python-dateutil>=2.8.2 in /usr/local/lib/python3.12/dist-packages (from pandas) (2.9.0.post0)\n",
            "Requirement already satisfied: pytz>=2020.1 in /usr/local/lib/python3.12/dist-packages (from pandas) (2025.2)\n",
            "Requirement already satisfied: tzdata>=2022.7 in /usr/local/lib/python3.12/dist-packages (from pandas) (2025.2)\n",
            "Requirement already satisfied: scipy>=1.6.0 in /usr/local/lib/python3.12/dist-packages (from scikit-learn) (1.16.2)\n",
            "Requirement already satisfied: threadpoolctl>=3.1.0 in /usr/local/lib/python3.12/dist-packages (from scikit-learn) (3.6.0)\n",
            "Requirement already satisfied: nvidia-nccl-cu12 in /usr/local/lib/python3.12/dist-packages (from xgboost) (2.27.3)\n",
            "Requirement already satisfied: six>=1.5 in /usr/local/lib/python3.12/dist-packages (from python-dateutil>=2.8.2->pandas) (1.17.0)\n",
            "Requirement already satisfied: gradio in /usr/local/lib/python3.12/dist-packages (5.46.0)\n",
            "Requirement already satisfied: aiofiles<25.0,>=22.0 in /usr/local/lib/python3.12/dist-packages (from gradio) (24.1.0)\n",
            "Requirement already satisfied: anyio<5.0,>=3.0 in /usr/local/lib/python3.12/dist-packages (from gradio) (4.10.0)\n",
            "Requirement already satisfied: brotli>=1.1.0 in /usr/local/lib/python3.12/dist-packages (from gradio) (1.1.0)\n",
            "Requirement already satisfied: fastapi<1.0,>=0.115.2 in /usr/local/lib/python3.12/dist-packages (from gradio) (0.116.2)\n",
            "Requirement already satisfied: ffmpy in /usr/local/lib/python3.12/dist-packages (from gradio) (0.6.1)\n",
            "Requirement already satisfied: gradio-client==1.13.0 in /usr/local/lib/python3.12/dist-packages (from gradio) (1.13.0)\n",
            "Requirement already satisfied: groovy~=0.1 in /usr/local/lib/python3.12/dist-packages (from gradio) (0.1.2)\n",
            "Requirement already satisfied: httpx<1.0,>=0.24.1 in /usr/local/lib/python3.12/dist-packages (from gradio) (0.28.1)\n",
            "Requirement already satisfied: huggingface-hub<1.0,>=0.33.5 in /usr/local/lib/python3.12/dist-packages (from gradio) (0.35.0)\n",
            "Requirement already satisfied: jinja2<4.0 in /usr/local/lib/python3.12/dist-packages (from gradio) (3.1.6)\n",
            "Requirement already satisfied: markupsafe<4.0,>=2.0 in /usr/local/lib/python3.12/dist-packages (from gradio) (3.0.2)\n",
            "Requirement already satisfied: numpy<3.0,>=1.0 in /usr/local/lib/python3.12/dist-packages (from gradio) (2.0.2)\n",
            "Requirement already satisfied: orjson~=3.0 in /usr/local/lib/python3.12/dist-packages (from gradio) (3.11.3)\n",
            "Requirement already satisfied: packaging in /usr/local/lib/python3.12/dist-packages (from gradio) (25.0)\n",
            "Requirement already satisfied: pandas<3.0,>=1.0 in /usr/local/lib/python3.12/dist-packages (from gradio) (2.2.2)\n",
            "Requirement already satisfied: pillow<12.0,>=8.0 in /usr/local/lib/python3.12/dist-packages (from gradio) (11.3.0)\n",
            "Requirement already satisfied: pydantic<2.12,>=2.0 in /usr/local/lib/python3.12/dist-packages (from gradio) (2.11.9)\n",
            "Requirement already satisfied: pydub in /usr/local/lib/python3.12/dist-packages (from gradio) (0.25.1)\n",
            "Requirement already satisfied: python-multipart>=0.0.18 in /usr/local/lib/python3.12/dist-packages (from gradio) (0.0.20)\n",
            "Requirement already satisfied: pyyaml<7.0,>=5.0 in /usr/local/lib/python3.12/dist-packages (from gradio) (6.0.2)\n",
            "Requirement already satisfied: ruff>=0.9.3 in /usr/local/lib/python3.12/dist-packages (from gradio) (0.13.0)\n",
            "Requirement already satisfied: safehttpx<0.2.0,>=0.1.6 in /usr/local/lib/python3.12/dist-packages (from gradio) (0.1.6)\n",
            "Requirement already satisfied: semantic-version~=2.0 in /usr/local/lib/python3.12/dist-packages (from gradio) (2.10.0)\n",
            "Requirement already satisfied: starlette<1.0,>=0.40.0 in /usr/local/lib/python3.12/dist-packages (from gradio) (0.48.0)\n",
            "Requirement already satisfied: tomlkit<0.14.0,>=0.12.0 in /usr/local/lib/python3.12/dist-packages (from gradio) (0.13.3)\n",
            "Requirement already satisfied: typer<1.0,>=0.12 in /usr/local/lib/python3.12/dist-packages (from gradio) (0.17.4)\n",
            "Requirement already satisfied: typing-extensions~=4.0 in /usr/local/lib/python3.12/dist-packages (from gradio) (4.15.0)\n",
            "Requirement already satisfied: uvicorn>=0.14.0 in /usr/local/lib/python3.12/dist-packages (from gradio) (0.35.0)\n",
            "Requirement already satisfied: fsspec in /usr/local/lib/python3.12/dist-packages (from gradio-client==1.13.0->gradio) (2025.3.0)\n",
            "Requirement already satisfied: websockets<16.0,>=10.0 in /usr/local/lib/python3.12/dist-packages (from gradio-client==1.13.0->gradio) (15.0.1)\n",
            "Requirement already satisfied: idna>=2.8 in /usr/local/lib/python3.12/dist-packages (from anyio<5.0,>=3.0->gradio) (3.10)\n",
            "Requirement already satisfied: sniffio>=1.1 in /usr/local/lib/python3.12/dist-packages (from anyio<5.0,>=3.0->gradio) (1.3.1)\n",
            "Requirement already satisfied: certifi in /usr/local/lib/python3.12/dist-packages (from httpx<1.0,>=0.24.1->gradio) (2025.8.3)\n",
            "Requirement already satisfied: httpcore==1.* in /usr/local/lib/python3.12/dist-packages (from httpx<1.0,>=0.24.1->gradio) (1.0.9)\n",
            "Requirement already satisfied: h11>=0.16 in /usr/local/lib/python3.12/dist-packages (from httpcore==1.*->httpx<1.0,>=0.24.1->gradio) (0.16.0)\n",
            "Requirement already satisfied: filelock in /usr/local/lib/python3.12/dist-packages (from huggingface-hub<1.0,>=0.33.5->gradio) (3.19.1)\n",
            "Requirement already satisfied: requests in /usr/local/lib/python3.12/dist-packages (from huggingface-hub<1.0,>=0.33.5->gradio) (2.32.4)\n",
            "Requirement already satisfied: tqdm>=4.42.1 in /usr/local/lib/python3.12/dist-packages (from huggingface-hub<1.0,>=0.33.5->gradio) (4.67.1)\n",
            "Requirement already satisfied: hf-xet<2.0.0,>=1.1.3 in /usr/local/lib/python3.12/dist-packages (from huggingface-hub<1.0,>=0.33.5->gradio) (1.1.10)\n",
            "Requirement already satisfied: python-dateutil>=2.8.2 in /usr/local/lib/python3.12/dist-packages (from pandas<3.0,>=1.0->gradio) (2.9.0.post0)\n",
            "Requirement already satisfied: pytz>=2020.1 in /usr/local/lib/python3.12/dist-packages (from pandas<3.0,>=1.0->gradio) (2025.2)\n",
            "Requirement already satisfied: tzdata>=2022.7 in /usr/local/lib/python3.12/dist-packages (from pandas<3.0,>=1.0->gradio) (2025.2)\n",
            "Requirement already satisfied: annotated-types>=0.6.0 in /usr/local/lib/python3.12/dist-packages (from pydantic<2.12,>=2.0->gradio) (0.7.0)\n",
            "Requirement already satisfied: pydantic-core==2.33.2 in /usr/local/lib/python3.12/dist-packages (from pydantic<2.12,>=2.0->gradio) (2.33.2)\n",
            "Requirement already satisfied: typing-inspection>=0.4.0 in /usr/local/lib/python3.12/dist-packages (from pydantic<2.12,>=2.0->gradio) (0.4.1)\n",
            "Requirement already satisfied: click>=8.0.0 in /usr/local/lib/python3.12/dist-packages (from typer<1.0,>=0.12->gradio) (8.2.1)\n",
            "Requirement already satisfied: shellingham>=1.3.0 in /usr/local/lib/python3.12/dist-packages (from typer<1.0,>=0.12->gradio) (1.5.4)\n",
            "Requirement already satisfied: rich>=10.11.0 in /usr/local/lib/python3.12/dist-packages (from typer<1.0,>=0.12->gradio) (13.9.4)\n",
            "Requirement already satisfied: six>=1.5 in /usr/local/lib/python3.12/dist-packages (from python-dateutil>=2.8.2->pandas<3.0,>=1.0->gradio) (1.17.0)\n",
            "Requirement already satisfied: markdown-it-py>=2.2.0 in /usr/local/lib/python3.12/dist-packages (from rich>=10.11.0->typer<1.0,>=0.12->gradio) (4.0.0)\n",
            "Requirement already satisfied: pygments<3.0.0,>=2.13.0 in /usr/local/lib/python3.12/dist-packages (from rich>=10.11.0->typer<1.0,>=0.12->gradio) (2.19.2)\n",
            "Requirement already satisfied: charset_normalizer<4,>=2 in /usr/local/lib/python3.12/dist-packages (from requests->huggingface-hub<1.0,>=0.33.5->gradio) (3.4.3)\n",
            "Requirement already satisfied: urllib3<3,>=1.21.1 in /usr/local/lib/python3.12/dist-packages (from requests->huggingface-hub<1.0,>=0.33.5->gradio) (2.5.0)\n",
            "Requirement already satisfied: mdurl~=0.1 in /usr/local/lib/python3.12/dist-packages (from markdown-it-py>=2.2.0->rich>=10.11.0->typer<1.0,>=0.12->gradio) (0.1.2)\n"
          ]
        }
      ]
    },
    {
      "cell_type": "markdown",
      "source": [
        "Step 2: Import Libraries"
      ],
      "metadata": {
        "id": "lLYrtqU38XvY"
      }
    },
    {
      "cell_type": "code",
      "source": [
        "import pandas as pd\n",
        "import numpy as np\n",
        "import joblib\n",
        "import os\n",
        "from google.colab import drive  # For Google Drive Access\n",
        "from imblearn.over_sampling import SMOTE\n",
        "from sklearn.preprocessing import OneHotEncoder, StandardScaler, LabelEncoder\n",
        "from sklearn.ensemble import RandomForestClassifier\n",
        "from sklearn.model_selection import train_test_split\n",
        "from sklearn.metrics import accuracy_score, classification_report\n"
      ],
      "metadata": {
        "id": "g8M3NVSk8Wli"
      },
      "execution_count": 2,
      "outputs": []
    },
    {
      "cell_type": "markdown",
      "source": [
        "Step 3: Mount Google Drive"
      ],
      "metadata": {
        "id": "xAI3Usak8c1r"
      }
    },
    {
      "cell_type": "code",
      "source": [
        "drive.mount('/content/drive')\n"
      ],
      "metadata": {
        "colab": {
          "base_uri": "https://localhost:8080/"
        },
        "id": "6NHAtDNe8e0P",
        "outputId": "4bcbe905-753e-4f71-8b7e-d60363ec3717"
      },
      "execution_count": 3,
      "outputs": [
        {
          "output_type": "stream",
          "name": "stdout",
          "text": [
            "Mounted at /content/drive\n"
          ]
        }
      ]
    },
    {
      "cell_type": "markdown",
      "source": [
        "Step 4: Load Dataset from Google Drive"
      ],
      "metadata": {
        "id": "TShDuORC8ij0"
      }
    },
    {
      "cell_type": "code",
      "source": [
        "file_path = \"/content/drive/My Drive/HealthSyncAI/Synthetic_health_dataset.csv\"\n",
        "df = pd.read_csv(file_path)\n",
        "\n",
        "# Display first few rows\n",
        "print(\" Dataset Loaded Successfully!\")\n",
        "print(df.head())\n"
      ],
      "metadata": {
        "colab": {
          "base_uri": "https://localhost:8080/"
        },
        "id": "9tO3J-O38lpe",
        "outputId": "1efa97d4-b5c0-4022-840d-b6498a234437"
      },
      "execution_count": 4,
      "outputs": [
        {
          "output_type": "stream",
          "name": "stdout",
          "text": [
            " Dataset Loaded Successfully!\n",
            "   glucose  cholesterol  HbA1c   BMI  blood_pressure  sleep_hours  age  \\\n",
            "0      109          202    6.7  31.8             143          8.2   51   \n",
            "1       97          198    4.5  24.5             118          7.4   24   \n",
            "2      112          228    6.3  19.6             100          8.7   56   \n",
            "3      130          245    5.1  32.0              99          6.4   26   \n",
            "4       95          220    5.4  24.4             114          6.8   44   \n",
            "\n",
            "  smoking_status alcohol_intake physical_activity diet_habits  gender  \\\n",
            "0            Yes             No               Yes    Balanced    Male   \n",
            "1             No            Yes               Yes       Vegan    Male   \n",
            "2             No             No                No    High-Fat  Female   \n",
            "3             No            Yes                No    High-Fat    Male   \n",
            "4             No             No                No    Low-Carb    Male   \n",
            "\n",
            "  medical_history disease_status  \n",
            "0             NaN       Diabetes  \n",
            "1   Heart Disease  Heart Disease  \n",
            "2   Heart Disease   Hypertension  \n",
            "3        Diabetes   Hypertension  \n",
            "4   Heart Disease  Heart Disease  \n"
          ]
        }
      ]
    },
    {
      "cell_type": "markdown",
      "source": [
        "Step 5: Handle Missing"
      ],
      "metadata": {
        "id": "dxbTvo3P8n2W"
      }
    },
    {
      "cell_type": "code",
      "source": [
        "print(\"\\n Checking Missing Values...\")\n",
        "print(df.isnull().sum())\n",
        "\n",
        "\n",
        "df.fillna(df.median(numeric_only=True), inplace=True)\n",
        "\n",
        "\n",
        "df.fillna(df.mode().iloc[0], inplace=True)\n",
        "\n",
        "print(\" Missing Values Handled Successfully!\")\n"
      ],
      "metadata": {
        "colab": {
          "base_uri": "https://localhost:8080/"
        },
        "id": "qccB0FHj8rDj",
        "outputId": "c3af6a8b-322a-41b2-9080-a2bd6d426571"
      },
      "execution_count": 5,
      "outputs": [
        {
          "output_type": "stream",
          "name": "stdout",
          "text": [
            "\n",
            " Checking Missing Values...\n",
            "glucose                  0\n",
            "cholesterol              0\n",
            "HbA1c                    0\n",
            "BMI                      0\n",
            "blood_pressure           0\n",
            "sleep_hours              0\n",
            "age                      0\n",
            "smoking_status           0\n",
            "alcohol_intake           0\n",
            "physical_activity        0\n",
            "diet_habits              0\n",
            "gender                   0\n",
            "medical_history      12641\n",
            "disease_status           0\n",
            "dtype: int64\n",
            " Missing Values Handled Successfully!\n"
          ]
        }
      ]
    },
    {
      "cell_type": "markdown",
      "source": [
        "Step 6: Define Features (X) and Target (y)"
      ],
      "metadata": {
        "id": "7kq_lMGS8t_t"
      }
    },
    {
      "cell_type": "code",
      "source": [
        "X = df.drop(columns=['disease_status'])\n",
        "y = df['disease_status']\n",
        "\n",
        "\n",
        "label_encoder = LabelEncoder()\n",
        "y = label_encoder.fit_transform(y)\n",
        "\n",
        "joblib.dump(label_encoder, \"/content/drive/My Drive/HealthSyncAI/label_encoder.pkl\")\n",
        "print(\" Target Labels Encoded Successfully!\")\n"
      ],
      "metadata": {
        "colab": {
          "base_uri": "https://localhost:8080/"
        },
        "id": "D11UAsSe8wSd",
        "outputId": "496197fa-36e9-4686-b478-7a2cf21fc075"
      },
      "execution_count": 6,
      "outputs": [
        {
          "output_type": "stream",
          "name": "stdout",
          "text": [
            " Target Labels Encoded Successfully!\n"
          ]
        }
      ]
    },
    {
      "cell_type": "markdown",
      "source": [
        "Step 5: Encode Labels"
      ],
      "metadata": {
        "id": "9XrRmypl8zPH"
      }
    },
    {
      "cell_type": "code",
      "source": [
        "\n",
        "# convert the target catagotrical value into numeric from\n",
        "X = df.drop(columns=['disease_status'])\n",
        "y = df['disease_status']\n",
        "\n",
        "label_encoder = LabelEncoder()\n",
        "y = label_encoder.fit_transform(y)\n",
        "\n",
        "\n",
        "joblib.dump(label_encoder, \"label_encoder.pkl\")\n",
        "\n",
        "print(\"Target labels encoded successfully:\", label_encoder.classes_)\n"
      ],
      "metadata": {
        "colab": {
          "base_uri": "https://localhost:8080/"
        },
        "id": "i8-AHlf483JX",
        "outputId": "a08fd90d-3402-41eb-d180-74df7d5dc0ae"
      },
      "execution_count": 7,
      "outputs": [
        {
          "output_type": "stream",
          "name": "stdout",
          "text": [
            "Target labels encoded successfully: ['Diabetes' 'Healthy' 'Heart Disease' 'Hypertension']\n"
          ]
        }
      ]
    },
    {
      "cell_type": "markdown",
      "source": [
        "\n",
        "Step 7: One-Hot Encode Categorical Variables & Scale Numerical Data"
      ],
      "metadata": {
        "id": "7nqdjquY85qK"
      }
    },
    {
      "cell_type": "code",
      "source": [
        "#converting the feature into machine understandabul way\n",
        "encoder = OneHotEncoder(handle_unknown='ignore', sparse_output=False)\n",
        "\n",
        "categorical_columns = ['smoking_status', 'alcohol_intake', 'physical_activity',\n",
        "                       'diet_habits', 'gender', 'medical_history']\n",
        "numerical_columns = ['glucose', 'cholesterol', 'HbA1c', 'BMI',\n",
        "                     'blood_pressure', 'sleep_hours', 'age']\n",
        "\n",
        "\n",
        "X_encoded = encoder.fit_transform(X[categorical_columns])\n",
        "X_encoded_df = pd.DataFrame(X_encoded, columns=encoder.get_feature_names_out())\n",
        "\n",
        "\n",
        "scaler = StandardScaler()\n",
        "X_numeric_scaled = scaler.fit_transform(X[numerical_columns])\n",
        "X_numeric_scaled_df = pd.DataFrame(X_numeric_scaled, columns=numerical_columns)\n",
        "\n",
        "\n",
        "X_transformed = pd.concat([X_numeric_scaled_df, X_encoded_df], axis=1)\n",
        "\n",
        "print(\" Categorical Data Encoded & Numerical Features Scaled Successfully!\")\n"
      ],
      "metadata": {
        "colab": {
          "base_uri": "https://localhost:8080/"
        },
        "id": "DNOZzlaN88F7",
        "outputId": "3ed5dae9-2881-432a-aed8-e661771ec6f1"
      },
      "execution_count": 8,
      "outputs": [
        {
          "output_type": "stream",
          "name": "stdout",
          "text": [
            " Categorical Data Encoded & Numerical Features Scaled Successfully!\n"
          ]
        }
      ]
    },
    {
      "cell_type": "markdown",
      "source": [
        "Step 7: Handle Class Imbalance using SMOTE"
      ],
      "metadata": {
        "id": "pkJEV8r38-SB"
      }
    },
    {
      "cell_type": "code",
      "source": [
        "#Synthetic minority over sampling technique\n",
        "smote = SMOTE(random_state=42)\n",
        "X_balanced, y_balanced = smote.fit_resample(X_transformed, y)\n",
        "\n",
        "print(\"Dataset balanced successfully! New class distribution:\")\n",
        "print(pd.Series(y_balanced).value_counts())"
      ],
      "metadata": {
        "colab": {
          "base_uri": "https://localhost:8080/"
        },
        "id": "i9cGvIsN9DYt",
        "outputId": "c3fe619b-170b-4f32-cffb-6979eb9c3b36"
      },
      "execution_count": 9,
      "outputs": [
        {
          "output_type": "stream",
          "name": "stdout",
          "text": [
            "Dataset balanced successfully! New class distribution:\n",
            "0    17165\n",
            "2    17165\n",
            "3    17165\n",
            "1    17165\n",
            "Name: count, dtype: int64\n"
          ]
        }
      ]
    },
    {
      "cell_type": "markdown",
      "source": [
        "Step 8: Split Data into Training & Test Sets"
      ],
      "metadata": {
        "id": "pQMvqYoY9FBZ"
      }
    },
    {
      "cell_type": "code",
      "source": [
        "X_train, X_test, y_train, y_test = train_test_split(X_balanced, y_balanced, test_size=0.2, random_state=42)\n",
        "\n",
        "print(f\"Training set size: {X_train.shape}\")\n",
        "print(f\"Test set size: {X_test.shape}\")\n"
      ],
      "metadata": {
        "colab": {
          "base_uri": "https://localhost:8080/"
        },
        "id": "9QrH4CGo9H7d",
        "outputId": "f21f1c22-531d-4356-ab43-e150a3d8b428"
      },
      "execution_count": 10,
      "outputs": [
        {
          "output_type": "stream",
          "name": "stdout",
          "text": [
            "Training set size: (54928, 22)\n",
            "Test set size: (13732, 22)\n"
          ]
        }
      ]
    },
    {
      "cell_type": "markdown",
      "source": [
        "Step 9: Train Random Forest Model"
      ],
      "metadata": {
        "id": "VJP3viaS9PHG"
      }
    },
    {
      "cell_type": "code",
      "source": [
        "#merging multiple decision trees to provide accurate result\n",
        "clf = RandomForestClassifier(n_estimators=100, random_state=42)\n",
        "clf.fit(X_train, y_train)\n",
        "\n",
        "\n",
        "joblib.dump(clf, \"/content/drive/My Drive/HealthSyncAI/trained_model.pkl\")\n",
        "joblib.dump(encoder, \"/content/drive/My Drive/HealthSyncAI/encoder.pkl\")\n",
        "joblib.dump(scaler, \"/content/drive/My Drive/HealthSyncAI/scaler.pkl\")\n",
        "\n",
        "print(\" Model Trained & Saved Successfully!\")\n"
      ],
      "metadata": {
        "colab": {
          "base_uri": "https://localhost:8080/"
        },
        "id": "wndb0D3_9bpR",
        "outputId": "8900b0fe-6263-4671-b112-2dbd848d9852"
      },
      "execution_count": 11,
      "outputs": [
        {
          "output_type": "stream",
          "name": "stdout",
          "text": [
            " Model Trained & Saved Successfully!\n"
          ]
        }
      ]
    },
    {
      "cell_type": "markdown",
      "source": [
        "Step 10: Evaluate Model"
      ],
      "metadata": {
        "id": "zbHhNye89db4"
      }
    },
    {
      "cell_type": "code",
      "source": [
        "y_pred = clf.predict(X_test)\n",
        "accuracy = accuracy_score(y_test, y_pred)\n",
        "\n",
        "print(f\"\\n Model Accuracy: {accuracy * 100:.2f}%\")\n",
        "print(\"\\n Classification Report:\\n\", classification_report(y_test, y_pred))\n"
      ],
      "metadata": {
        "colab": {
          "base_uri": "https://localhost:8080/"
        },
        "id": "g4KI5om89e5Y",
        "outputId": "b1d8945c-749d-4b6e-b28d-1b4bd1a9617e"
      },
      "execution_count": 12,
      "outputs": [
        {
          "output_type": "stream",
          "name": "stdout",
          "text": [
            "\n",
            " Model Accuracy: 92.22%\n",
            "\n",
            " Classification Report:\n",
            "               precision    recall  f1-score   support\n",
            "\n",
            "           0       1.00      1.00      1.00      3502\n",
            "           1       0.96      0.72      0.82      3465\n",
            "           2       0.77      0.97      0.86      3330\n",
            "           3       1.00      1.00      1.00      3435\n",
            "\n",
            "    accuracy                           0.92     13732\n",
            "   macro avg       0.93      0.92      0.92     13732\n",
            "weighted avg       0.93      0.92      0.92     13732\n",
            "\n"
          ]
        }
      ]
    },
    {
      "cell_type": "markdown",
      "source": [
        "Step 11: Define Diet Recommendations"
      ],
      "metadata": {
        "id": "etyyOIYZ9g4x"
      }
    },
    {
      "cell_type": "code",
      "source": [
        "diet_recommendations = {\n",
        "    \"Diabetes\": {\n",
        "        \"foods_to_eat\": {\n",
        "            \"Leafy Greens\": [\"Rich in Vitamin C, Vitamin K, and Magnesium (e.g., Spinach, Kale)\"],\n",
        "            \"Whole Grains\": [\"High in Fiber and B Vitamins (e.g., Brown Rice, Quinoa, Oats)\"],\n",
        "            \"Lean Proteins\": [\"Helps with muscle maintenance and blood sugar control (e.g., Chicken, Fish, Tofu, Eggs)\"],\n",
        "            \"Low-GI Fruits\": [\"Provides natural sweetness with lower blood sugar impact (e.g., Berries, Apples, Pears)\"],\n",
        "            \"Nuts & Seeds\": [\"Rich in healthy fats, fiber, and Vitamin E (e.g., Almonds, Walnuts, Chia Seeds)\"],\n",
        "            \"Legumes\": [\"Good source of fiber and plant-based protein (e.g., Lentils, Chickpeas, Black Beans)\"]\n",
        "        },\n",
        "        \"foods_to_avoid\": {\n",
        "            \"Sugary Drinks\": [\"Causes rapid spikes in blood sugar (e.g., Sodas, Energy Drinks, Sweetened Teas)\"],\n",
        "            \"Refined Carbs\": [\"Lacks fiber and nutrients, raises blood sugar quickly (e.g., White Bread, White Pasta, Pastries)\"],\n",
        "            \"Fried Foods\": [\"High in unhealthy fats, raises cholesterol and insulin resistance (e.g., French Fries, Fried Chicken)\"],\n",
        "            \"High-Sugar Fruits\": [\"Can spike blood sugar levels (e.g., Watermelon, Mango, Pineapple, Grapes)\"]\n",
        "        }\n",
        "    },\n",
        "    \"Hypertension\": {\n",
        "        \"foods_to_eat\": {\n",
        "            \"Bananas\": [\"Rich in Potassium, helps reduce blood pressure\"],\n",
        "            \"Leafy Greens\": [\"High in Magnesium, helps relax blood vessels\"],\n",
        "            \"Beets\": [\"Contains Nitrates, which help lower blood pressure\"],\n",
        "            \"Garlic\": [\"Rich in Allicin, reduces inflammation and pressure\"],\n",
        "            \"Fatty Fish\": [\"Contains Omega-3, reduces hypertension (e.g., Salmon, Mackerel)\"],\n",
        "            \"Nuts\": [\"Provides healthy fats, Magnesium, and Potassium (e.g., Walnuts, Almonds)\"],\n",
        "            \"Low-fat Dairy\": [\"Good source of Calcium and Protein, helps manage blood pressure\"]\n",
        "        },\n",
        "        \"foods_to_avoid\": {\n",
        "            \"Processed Foods\": [\"High in sodium and preservatives (e.g., Canned Soups, Frozen Meals)\"],\n",
        "            \"Salty Foods\": [\"Raises blood pressure levels (e.g., Chips, Pickles, Salted Nuts)\"],\n",
        "            \"Alcohol\": [\"Can increase blood pressure over time\"],\n",
        "            \"Caffeine\": [\"May cause temporary blood pressure spikes (e.g., Coffee, Energy Drinks)\"],\n",
        "            \"Red Meat\": [\"Contains saturated fats that may increase heart disease risk\"]\n",
        "        }\n",
        "    },\n",
        "    \"Heart Disease\": {\n",
        "        \"foods_to_eat\": {\n",
        "            \"Oatmeal\": [\"High in Soluble Fiber, reduces bad cholesterol\"],\n",
        "            \"Salmon\": [\"Rich in Omega-3 Fatty Acids, reduces inflammation\"],\n",
        "            \"Avocados\": [\"Contains healthy Monounsaturated Fats, good for the heart\"],\n",
        "            \"Nuts\": [\"Rich in Omega-3, reduces heart disease risk\"],\n",
        "            \"Olive Oil\": [\"Provides healthy fats and antioxidants\"],\n",
        "            \"Dark Chocolate\": [\"High in Flavonoids, improves blood circulation\"],\n",
        "            \"Legumes\": [\"High in Fiber and Protein, lowers cholesterol (e.g., Lentils, Beans)\"]\n",
        "        },\n",
        "        \"foods_to_avoid\": {\n",
        "            \"Fried Foods\": [\"High in trans fats, increases cholesterol\"],\n",
        "            \"Trans Fats\": [\"Found in processed snacks and margarine\"],\n",
        "            \"Red Meat\": [\"High in saturated fat, can lead to heart disease\"],\n",
        "            \"High-Sugar Foods\": [\"Increases inflammation and risk of diabetes\"],\n",
        "            \"Excessive Dairy\": [\"Can be high in saturated fat, affecting heart health\"]\n",
        "        }\n",
        "    },\n",
        "    \"Healthy\": {\n",
        "        \"foods_to_eat\": {\n",
        "            \"Balanced Diet\": [\"A mix of Proteins, Carbs, and Healthy Fats\"],\n",
        "            \"Fruits & Vegetables\": [\"Provides essential Vitamins, Minerals, and Antioxidants\"],\n",
        "            \"Whole Grains\": [\"High in Fiber, keeps digestion and energy levels stable\"],\n",
        "            \"Healthy Fats\": [\"Supports brain function and reduces inflammation (e.g., Nuts, Avocados, Olive Oil)\"]\n",
        "        },\n",
        "        \"foods_to_avoid\": {\n",
        "            \"Excess Processed Foods\": [\"High in unhealthy fats, sodium, and preservatives\"],\n",
        "            \"Too Much Sugar & Salt\": [\"Can lead to metabolic disorders and hypertension\"]\n",
        "        }\n",
        "    }\n",
        "}\n",
        "\n"
      ],
      "metadata": {
        "id": "V8AtvR119icZ"
      },
      "execution_count": 13,
      "outputs": []
    },
    {
      "cell_type": "markdown",
      "source": [
        "Step 12: User Interactive Prediction Function"
      ],
      "metadata": {
        "id": "XhsWCsWC9kSJ"
      }
    },
    {
      "cell_type": "code",
      "source": [
        "def predict_disease_and_diet():\n",
        "    print(\"\\n Enter Your Health Details  \")\n",
        "\n",
        "    try:\n",
        "        # Collect user input with validation\n",
        "        glucose = float(input(\"Enter Glucose Level (70-200 mg/dL): \"))\n",
        "        if not (70 <= glucose <= 200):\n",
        "            raise ValueError(\"Invalid Glucose Level\")\n",
        "\n",
        "        cholesterol = float(input(\"Enter Cholesterol Level (100-300 mg/dL): \"))\n",
        "        if not (100 <= cholesterol <= 300):\n",
        "            raise ValueError(\"Invalid Cholesterol Level\")\n",
        "\n",
        "        HbA1c = float(input(\"Enter HbA1c Level (4-10 %): \"))\n",
        "        if not (4 <= HbA1c <= 10):\n",
        "            raise ValueError(\"Invalid HbA1c Level\")\n",
        "\n",
        "        BMI = float(input(\"Enter BMI (15-40): \"))\n",
        "        if not (15 <= BMI <= 40):\n",
        "            raise ValueError(\"Invalid BMI\")\n",
        "\n",
        "        blood_pressure = float(input(\"Enter Blood Pressure (80-180 mmHg): \"))\n",
        "        if not (80 <= blood_pressure <= 180):\n",
        "            raise ValueError(\"Invalid Blood Pressure\")\n",
        "\n",
        "        sleep_hours = float(input(\"Enter Sleep Hours per Night (2-10): \"))\n",
        "        if not (2 <= sleep_hours <= 10):\n",
        "            raise ValueError(\"Invalid Sleep Hours\")\n",
        "\n",
        "        age = int(input(\"Enter Age (18-80): \"))\n",
        "        if not (18 <= age <= 80):\n",
        "            raise ValueError(\"Invalid Age\")\n",
        "\n",
        "        smoking_status = input(\"Do you smoke? (Yes/No): \").strip().lower()\n",
        "        if smoking_status not in [\"yes\", \"no\"]:\n",
        "            raise ValueError(\"Invalid Smoking Status\")\n",
        "\n",
        "        alcohol_intake = input(\"Do you consume alcohol? (Yes/No): \").strip().lower()\n",
        "        if alcohol_intake not in [\"yes\", \"no\"]:\n",
        "            raise ValueError(\"Invalid Alcohol Intake\")\n",
        "\n",
        "        physical_activity = input(\"Do you exercise regularly? (Yes/No): \").strip().lower()\n",
        "        if physical_activity not in [\"yes\", \"no\"]:\n",
        "            raise ValueError(\"Invalid Physical Activity\")\n",
        "\n",
        "        diet_habits = input(\"Describe your diet (Balanced/High-Fat/High-Sugar): \").strip().lower()\n",
        "        if diet_habits not in [\"balanced\", \"high-fat\", \"high-sugar\"]:\n",
        "            raise ValueError(\"Invalid Diet Habits\")\n",
        "\n",
        "        gender = input(\"Enter Gender (Male/Female): \").strip().lower()\n",
        "        if gender not in [\"male\", \"female\"]:\n",
        "            raise ValueError(\"Invalid Gender\")\n",
        "\n",
        "        medical_history = input(\"Any major medical history? (Diabetes/Heart Disease/None): \").strip().lower()\n",
        "        if medical_history not in [\"diabetes\", \"heart disease\", \"none\"]:\n",
        "            raise ValueError(\"Invalid Medical History\")\n",
        "\n",
        "        # Create input DataFrame\n",
        "        sample_input = {\n",
        "            \"glucose\": glucose,\n",
        "            \"cholesterol\": cholesterol,\n",
        "            \"HbA1c\": HbA1c,\n",
        "            \"BMI\": BMI,\n",
        "            \"blood_pressure\": blood_pressure,\n",
        "            \"sleep_hours\": sleep_hours,\n",
        "            \"age\": age,\n",
        "            \"smoking_status\": smoking_status,\n",
        "            \"alcohol_intake\": alcohol_intake,\n",
        "            \"physical_activity\": physical_activity,\n",
        "            \"diet_habits\": diet_habits,\n",
        "            \"gender\": gender,\n",
        "            \"medical_history\": medical_history\n",
        "        }\n",
        "\n",
        "        input_df = pd.DataFrame([sample_input])\n",
        "        input_categorical = encoder.transform(input_df[categorical_columns])\n",
        "        input_numerical = scaler.transform(input_df[numerical_columns])\n",
        "        input_final = pd.DataFrame(np.hstack((input_numerical, input_categorical)),\n",
        "                                   columns=list(numerical_columns) + list(encoder.get_feature_names_out()))\n",
        "\n",
        "        predicted_label = clf.predict(input_final)[0]\n",
        "        predicted_disease = label_encoder.inverse_transform([predicted_label])[0]\n",
        "\n",
        "        # Get detailed diet recommendation\n",
        "        diet_info = diet_recommendations.get(predicted_disease, {\"foods_to_eat\": [], \"foods_to_avoid\": []})\n",
        "\n",
        "        print(f\"\\n **Predicted Disease**: {predicted_disease}\")\n",
        "\n",
        "        print(\"\\n **Recommended Foods to Eat**:\")\n",
        "        for food, details in diet_info.get(\"foods_to_eat\", {}).items():\n",
        "            print(f\"- {food}: {details[0]}\")\n",
        "\n",
        "        print(\"\\n **Foods to Avoid**:\")\n",
        "        for food, reason in diet_info.get(\"foods_to_avoid\", {}).items():\n",
        "            print(f\"- {food}: {reason}\")\n",
        "\n",
        "    except ValueError as e:\n",
        "        print(f\"\\n Invalid Input: {e}\")\n",
        "\n"
      ],
      "metadata": {
        "id": "LSdlRpVm9n9B"
      },
      "execution_count": 14,
      "outputs": []
    },
    {
      "cell_type": "markdown",
      "source": [
        "Step 13: Run User Interactive Prediction"
      ],
      "metadata": {
        "id": "McwLa3hd9v5w"
      }
    },
    {
      "cell_type": "code",
      "source": [
        "import gradio as gr\n",
        "def predict_with_gradio(glucose, cholesterol, HbA1c, BMI, blood_pressure, sleep_hours,\n",
        "                        age, smoking_status, alcohol_intake, physical_activity,\n",
        "                        diet_habits, gender, medical_history):\n",
        "\n",
        "    try:\n",
        "        sample_input = {\n",
        "            \"glucose\": glucose,\n",
        "            \"cholesterol\": cholesterol,\n",
        "            \"HbA1c\": HbA1c,\n",
        "            \"BMI\": BMI,\n",
        "            \"blood_pressure\": blood_pressure,\n",
        "            \"sleep_hours\": sleep_hours,\n",
        "            \"age\": age,\n",
        "            \"smoking_status\": smoking_status.lower(),\n",
        "            \"alcohol_intake\": alcohol_intake.lower(),\n",
        "            \"physical_activity\": physical_activity.lower(),\n",
        "            \"diet_habits\": diet_habits.lower(),\n",
        "            \"gender\": gender.lower(),\n",
        "            \"medical_history\": medical_history.lower()\n",
        "        }\n",
        "\n",
        "        input_df = pd.DataFrame([sample_input])\n",
        "        input_categorical = encoder.transform(input_df[categorical_columns])\n",
        "        input_numerical = scaler.transform(input_df[numerical_columns])\n",
        "        input_final = pd.DataFrame(np.hstack((input_numerical, input_categorical)),\n",
        "                                   columns=list(numerical_columns) + list(encoder.get_feature_names_out()))\n",
        "\n",
        "        predicted_label = clf.predict(input_final)[0]\n",
        "        predicted_disease = label_encoder.inverse_transform([predicted_label])[0]\n",
        "\n",
        "        diet_info = diet_recommendations.get(predicted_disease, {\"foods_to_eat\": {}, \"foods_to_avoid\": {}})\n",
        "\n",
        "        output = f\"### 🤕 Predicted Disease: {predicted_disease}\\n\\n\"\n",
        "        output += \"  **🥗 Recommended Foods to Eat:**\\n\"\n",
        "        for food, details in diet_info.get(\"foods_to_eat\", {}).items():\n",
        "            output += f\"- {food}: {details[0]}\\n\"\n",
        "\n",
        "        output += \"\\n**❌ Foods to Avoid:**\\n\"\n",
        "        for food, reason in diet_info.get(\"foods_to_avoid\", {}).items():\n",
        "            output += f\"- {food}: {reason}\\n\"\n",
        "\n",
        "        return output\n",
        "\n",
        "    except Exception as e:\n",
        "        return f\"Error: {e}\"\n",
        "\n",
        "# Create interface\n",
        "gr.Interface(\n",
        "    fn=predict_with_gradio,\n",
        "    inputs=[\n",
        "        gr.Number(label=\"Glucose (70-200)\"),\n",
        "        gr.Number(label=\"Cholesterol (100-300)\"),\n",
        "        gr.Number(label=\"HbA1c (4-10)\"),\n",
        "        gr.Number(label=\"BMI (15-40)\"),\n",
        "        gr.Number(label=\"Blood Pressure (80-180)\"),\n",
        "        gr.Number(label=\"Sleep Hours (2-10)\"),\n",
        "        gr.Number(label=\"Age (18-80)\"),\n",
        "        gr.Radio([\"Yes\", \"No\"], label=\"Smoking Status\"),\n",
        "        gr.Radio([\"Yes\", \"No\"], label=\"Alcohol Intake\"),\n",
        "        gr.Radio([\"Yes\", \"No\"], label=\"Physical Activity\"),\n",
        "        gr.Radio([\"Balanced\", \"High-Fat\", \"High-Sugar\"], label=\"Diet Habits\"),\n",
        "        gr.Radio([\"Male\", \"Female\"], label=\"Gender\"),\n",
        "        gr.Radio([\"Diabetes\", \"Heart Disease\", \"None\"], label=\"Medical History\"),\n",
        "    ],\n",
        "    outputs=gr.Markdown(),\n",
        "    title=\" 🩺HealthSync AI : Smart Diagnosis and Custom Nutrition Guide \",\n",
        "    description=\"Enter your health details below:\"\n",
        ").launch()\n"
      ],
      "metadata": {
        "colab": {
          "base_uri": "https://localhost:8080/",
          "height": 646
        },
        "id": "xflkyGhV9y9g",
        "outputId": "58c4eac2-72de-454e-e0de-d166c004e6e4"
      },
      "execution_count": 15,
      "outputs": [
        {
          "output_type": "stream",
          "name": "stdout",
          "text": [
            "It looks like you are running Gradio on a hosted Jupyter notebook, which requires `share=True`. Automatically setting `share=True` (you can turn this off by setting `share=False` in `launch()` explicitly).\n",
            "\n",
            "Colab notebook detected. To show errors in colab notebook, set debug=True in launch()\n",
            "* Running on public URL: https://e01af67afe492aed91.gradio.live\n",
            "\n",
            "This share link expires in 1 week. For free permanent hosting and GPU upgrades, run `gradio deploy` from the terminal in the working directory to deploy to Hugging Face Spaces (https://huggingface.co/spaces)\n"
          ]
        },
        {
          "output_type": "display_data",
          "data": {
            "text/plain": [
              "<IPython.core.display.HTML object>"
            ],
            "text/html": [
              "<div><iframe src=\"https://e01af67afe492aed91.gradio.live\" width=\"100%\" height=\"500\" allow=\"autoplay; camera; microphone; clipboard-read; clipboard-write;\" frameborder=\"0\" allowfullscreen></iframe></div>"
            ]
          },
          "metadata": {}
        },
        {
          "output_type": "execute_result",
          "data": {
            "text/plain": []
          },
          "metadata": {},
          "execution_count": 15
        }
      ]
    }
  ]
}