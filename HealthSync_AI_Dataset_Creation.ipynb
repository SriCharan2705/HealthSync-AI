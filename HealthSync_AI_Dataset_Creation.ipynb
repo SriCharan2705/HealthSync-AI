{
  "nbformat": 4,
  "nbformat_minor": 0,
  "metadata": {
    "colab": {
      "provenance": [],
      "authorship_tag": "ABX9TyP+y34RLQwJakPmb0/ltITU",
      "include_colab_link": true
    },
    "kernelspec": {
      "name": "python3",
      "display_name": "Python 3"
    },
    "language_info": {
      "name": "python"
    }
  },
  "cells": [
    {
      "cell_type": "markdown",
      "metadata": {
        "id": "view-in-github",
        "colab_type": "text"
      },
      "source": [
        "<a href=\"https://colab.research.google.com/github/SriCharan2705/HealthSync-AI/blob/main/HealthSync_AI_Dataset_Creation.ipynb\" target=\"_parent\"><img src=\"https://colab.research.google.com/assets/colab-badge.svg\" alt=\"Open In Colab\"/></a>"
      ]
    },
    {
      "cell_type": "markdown",
      "source": [
        "HealthSync AI: Dataset creation"
      ],
      "metadata": {
        "id": "1oMjqcoo64HR"
      }
    },
    {
      "cell_type": "code",
      "execution_count": 1,
      "metadata": {
        "colab": {
          "base_uri": "https://localhost:8080/"
        },
        "id": "YJLxZMqd62cg",
        "outputId": "5854b178-e250-4ab4-bd48-7dc39b098ed4"
      },
      "outputs": [
        {
          "output_type": "stream",
          "name": "stdout",
          "text": [
            "Mounted at /content/drive\n"
          ]
        }
      ],
      "source": [
        "from google.colab import drive\n",
        "\n",
        "\n",
        "drive.mount('/content/drive')\n"
      ]
    },
    {
      "cell_type": "markdown",
      "source": [
        "Cell 2: Import Required Libraries & Set Parameters"
      ],
      "metadata": {
        "id": "tUaqetFw7EAd"
      }
    },
    {
      "cell_type": "code",
      "source": [
        "import pandas as pd\n",
        "import numpy as np"
      ],
      "metadata": {
        "id": "IYDwjC9f7PJF"
      },
      "execution_count": 2,
      "outputs": []
    },
    {
      "cell_type": "markdown",
      "source": [
        "Cell 3: Generate the Dataset"
      ],
      "metadata": {
        "id": "uit5XWfi7Jez"
      }
    },
    {
      "cell_type": "code",
      "source": [
        "np.random.seed(42)\n",
        "\n",
        "\n",
        "num_samples = 50000\n",
        "\n",
        "\n",
        "data = {\n",
        "    \"glucose\": np.random.normal(loc=100, scale=20, size=num_samples).astype(int),\n",
        "    \"cholesterol\": np.random.normal(loc=200, scale=30, size=num_samples).astype(int),\n",
        "    \"HbA1c\": np.random.normal(loc=5.7, scale=1, size=num_samples).round(1),\n",
        "    \"BMI\": np.random.normal(loc=25, scale=5, size=num_samples).round(1),\n",
        "    \"blood_pressure\": np.random.normal(loc=120, scale=15, size=num_samples).astype(int),\n",
        "    \"sleep_hours\": np.random.uniform(4, 10, size=num_samples).round(1),\n",
        "    \"age\": np.random.randint(18, 80, size=num_samples)\n",
        "}\n",
        "\n",
        "\n",
        "data[\"smoking_status\"] = np.random.choice([\"Yes\", \"No\"], num_samples)\n",
        "data[\"alcohol_intake\"] = np.random.choice([\"Yes\", \"No\"], num_samples)\n",
        "data[\"physical_activity\"] = np.random.choice([\"Yes\", \"No\"], num_samples)\n",
        "data[\"diet_habits\"] = np.random.choice([\"Balanced\", \"High-Fat\", \"Low-Carb\", \"Vegan\"], num_samples)\n",
        "data[\"gender\"] = np.random.choice([\"Male\", \"Female\"], num_samples)\n",
        "\n",
        "\n",
        "data[\"medical_history\"] = np.random.choice([\"Diabetes\", \"Heart Disease\", \"Hypertension\", \"None\"], num_samples)\n",
        "\n",
        "\n",
        "def assign_disease_status(row):\n",
        "    if row[\"glucose\"] > 140 or row[\"HbA1c\"] > 6.5:\n",
        "        return \"Diabetes\"\n",
        "    elif row[\"blood_pressure\"] > 130 or row[\"cholesterol\"] > 220:\n",
        "        return \"Hypertension\"\n",
        "    elif row[\"medical_history\"] == \"Heart Disease\":\n",
        "        return \"Heart Disease\"\n",
        "    else:\n",
        "        return \"Healthy\"\n",
        "\n",
        "\n",
        "df = pd.DataFrame(data)\n",
        "df[\"disease_status\"] = df.apply(assign_disease_status, axis=1)\n",
        "\n",
        "\n",
        "df.to_csv(\"Synthetic_health_dataset.csv\", index=False)\n",
        "\n",
        "print(\"Large dataset generated successfully! File saved as large_health_dataset.csv\")\n"
      ],
      "metadata": {
        "colab": {
          "base_uri": "https://localhost:8080/"
        },
        "id": "dixpWjwg7a50",
        "outputId": "1ce36dc8-e099-4eb4-b4ce-bd4f1f354a2f"
      },
      "execution_count": 3,
      "outputs": [
        {
          "output_type": "stream",
          "name": "stdout",
          "text": [
            "Large dataset generated successfully! File saved as large_health_dataset.csv\n"
          ]
        }
      ]
    },
    {
      "cell_type": "markdown",
      "source": [
        "Cell 4: Save Dataset to Google Drive"
      ],
      "metadata": {
        "id": "ynj3X6R87eEi"
      }
    },
    {
      "cell_type": "code",
      "source": [
        "\n",
        "save_path = \"/content/drive/MyDrive/HealthSyncAI/Synthetic_health_dataset.csv\"\n",
        "\n",
        "\n",
        "df.to_csv(save_path, index=False)\n",
        "\n",
        "print(f\" Dataset successfully saved at {save_path}. You can access it from Google Drive.\")\n"
      ],
      "metadata": {
        "colab": {
          "base_uri": "https://localhost:8080/"
        },
        "id": "oSRCi9qH7gMv",
        "outputId": "19fb88f1-58cb-4230-c002-1d0bb1b97b54"
      },
      "execution_count": 4,
      "outputs": [
        {
          "output_type": "stream",
          "name": "stdout",
          "text": [
            " Dataset successfully saved at /content/drive/MyDrive/HealthSyncAI/Synthetic_health_dataset.csv. You can access it from Google Drive.\n"
          ]
        }
      ]
    }
  ]
}